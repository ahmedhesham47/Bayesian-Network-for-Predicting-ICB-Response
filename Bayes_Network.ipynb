{
  "nbformat": 4,
  "nbformat_minor": 0,
  "metadata": {
    "colab": {
      "provenance": [],
      "collapsed_sections": [
        "aB1F8KokSF8P",
        "hDLMix0ESLD3",
        "TddKAWHSSoBP",
        "7uRd5kfcUnXY",
        "ycA8vmVTSvbw",
        "y3OrU-oR2DPn",
        "wi5bhcfInRVR",
        "HNu3P6rISyp-",
        "VlBT38rPS5Ke"
      ],
      "gpuType": "T4",
      "include_colab_link": true
    },
    "kernelspec": {
      "name": "python3",
      "display_name": "Python 3"
    },
    "language_info": {
      "name": "python"
    },
    "widgets": {
      "application/vnd.jupyter.widget-state+json": {
        "60156b649b0046fe9435668131a4cc55": {
          "model_module": "@jupyter-widgets/controls",
          "model_name": "HBoxModel",
          "model_module_version": "1.5.0",
          "state": {
            "_dom_classes": [],
            "_model_module": "@jupyter-widgets/controls",
            "_model_module_version": "1.5.0",
            "_model_name": "HBoxModel",
            "_view_count": null,
            "_view_module": "@jupyter-widgets/controls",
            "_view_module_version": "1.5.0",
            "_view_name": "HBoxView",
            "box_style": "",
            "children": [
              "IPY_MODEL_7cc105aae7814991aa4da888e4ee927a",
              "IPY_MODEL_600a5d7d4bfe4810a741c6ecf10b3602",
              "IPY_MODEL_c72166526a9242d2b33679068a0435a8"
            ],
            "layout": "IPY_MODEL_ef64f052a8354316af3e044a9b2a649a"
          }
        },
        "7cc105aae7814991aa4da888e4ee927a": {
          "model_module": "@jupyter-widgets/controls",
          "model_name": "HTMLModel",
          "model_module_version": "1.5.0",
          "state": {
            "_dom_classes": [],
            "_model_module": "@jupyter-widgets/controls",
            "_model_module_version": "1.5.0",
            "_model_name": "HTMLModel",
            "_view_count": null,
            "_view_module": "@jupyter-widgets/controls",
            "_view_module_version": "1.5.0",
            "_view_name": "HTMLView",
            "description": "",
            "description_tooltip": null,
            "layout": "IPY_MODEL_c5109390e3864c4781cc6cfb50f9e379",
            "placeholder": "​",
            "style": "IPY_MODEL_28e46b3a49a0460d9474543c935d5a31",
            "value": "  3%"
          }
        },
        "600a5d7d4bfe4810a741c6ecf10b3602": {
          "model_module": "@jupyter-widgets/controls",
          "model_name": "FloatProgressModel",
          "model_module_version": "1.5.0",
          "state": {
            "_dom_classes": [],
            "_model_module": "@jupyter-widgets/controls",
            "_model_module_version": "1.5.0",
            "_model_name": "FloatProgressModel",
            "_view_count": null,
            "_view_module": "@jupyter-widgets/controls",
            "_view_module_version": "1.5.0",
            "_view_name": "ProgressView",
            "bar_style": "danger",
            "description": "",
            "description_tooltip": null,
            "layout": "IPY_MODEL_4f3c967873294b2199a52c6d481e0934",
            "max": 1000,
            "min": 0,
            "orientation": "horizontal",
            "style": "IPY_MODEL_3aa4ad9684e7482aa575e7d0a8c4dd4a",
            "value": 33
          }
        },
        "c72166526a9242d2b33679068a0435a8": {
          "model_module": "@jupyter-widgets/controls",
          "model_name": "HTMLModel",
          "model_module_version": "1.5.0",
          "state": {
            "_dom_classes": [],
            "_model_module": "@jupyter-widgets/controls",
            "_model_module_version": "1.5.0",
            "_model_name": "HTMLModel",
            "_view_count": null,
            "_view_module": "@jupyter-widgets/controls",
            "_view_module_version": "1.5.0",
            "_view_name": "HTMLView",
            "description": "",
            "description_tooltip": null,
            "layout": "IPY_MODEL_9949439b14804471ac172c735f4c2026",
            "placeholder": "​",
            "style": "IPY_MODEL_35009bd893084b6eaab6bfcd28ee1e66",
            "value": " 33/1000 [00:08&lt;02:52,  5.61it/s]"
          }
        },
        "ef64f052a8354316af3e044a9b2a649a": {
          "model_module": "@jupyter-widgets/base",
          "model_name": "LayoutModel",
          "model_module_version": "1.2.0",
          "state": {
            "_model_module": "@jupyter-widgets/base",
            "_model_module_version": "1.2.0",
            "_model_name": "LayoutModel",
            "_view_count": null,
            "_view_module": "@jupyter-widgets/base",
            "_view_module_version": "1.2.0",
            "_view_name": "LayoutView",
            "align_content": null,
            "align_items": null,
            "align_self": null,
            "border": null,
            "bottom": null,
            "display": null,
            "flex": null,
            "flex_flow": null,
            "grid_area": null,
            "grid_auto_columns": null,
            "grid_auto_flow": null,
            "grid_auto_rows": null,
            "grid_column": null,
            "grid_gap": null,
            "grid_row": null,
            "grid_template_areas": null,
            "grid_template_columns": null,
            "grid_template_rows": null,
            "height": null,
            "justify_content": null,
            "justify_items": null,
            "left": null,
            "margin": null,
            "max_height": null,
            "max_width": null,
            "min_height": null,
            "min_width": null,
            "object_fit": null,
            "object_position": null,
            "order": null,
            "overflow": null,
            "overflow_x": null,
            "overflow_y": null,
            "padding": null,
            "right": null,
            "top": null,
            "visibility": null,
            "width": null
          }
        },
        "c5109390e3864c4781cc6cfb50f9e379": {
          "model_module": "@jupyter-widgets/base",
          "model_name": "LayoutModel",
          "model_module_version": "1.2.0",
          "state": {
            "_model_module": "@jupyter-widgets/base",
            "_model_module_version": "1.2.0",
            "_model_name": "LayoutModel",
            "_view_count": null,
            "_view_module": "@jupyter-widgets/base",
            "_view_module_version": "1.2.0",
            "_view_name": "LayoutView",
            "align_content": null,
            "align_items": null,
            "align_self": null,
            "border": null,
            "bottom": null,
            "display": null,
            "flex": null,
            "flex_flow": null,
            "grid_area": null,
            "grid_auto_columns": null,
            "grid_auto_flow": null,
            "grid_auto_rows": null,
            "grid_column": null,
            "grid_gap": null,
            "grid_row": null,
            "grid_template_areas": null,
            "grid_template_columns": null,
            "grid_template_rows": null,
            "height": null,
            "justify_content": null,
            "justify_items": null,
            "left": null,
            "margin": null,
            "max_height": null,
            "max_width": null,
            "min_height": null,
            "min_width": null,
            "object_fit": null,
            "object_position": null,
            "order": null,
            "overflow": null,
            "overflow_x": null,
            "overflow_y": null,
            "padding": null,
            "right": null,
            "top": null,
            "visibility": null,
            "width": null
          }
        },
        "28e46b3a49a0460d9474543c935d5a31": {
          "model_module": "@jupyter-widgets/controls",
          "model_name": "DescriptionStyleModel",
          "model_module_version": "1.5.0",
          "state": {
            "_model_module": "@jupyter-widgets/controls",
            "_model_module_version": "1.5.0",
            "_model_name": "DescriptionStyleModel",
            "_view_count": null,
            "_view_module": "@jupyter-widgets/base",
            "_view_module_version": "1.2.0",
            "_view_name": "StyleView",
            "description_width": ""
          }
        },
        "4f3c967873294b2199a52c6d481e0934": {
          "model_module": "@jupyter-widgets/base",
          "model_name": "LayoutModel",
          "model_module_version": "1.2.0",
          "state": {
            "_model_module": "@jupyter-widgets/base",
            "_model_module_version": "1.2.0",
            "_model_name": "LayoutModel",
            "_view_count": null,
            "_view_module": "@jupyter-widgets/base",
            "_view_module_version": "1.2.0",
            "_view_name": "LayoutView",
            "align_content": null,
            "align_items": null,
            "align_self": null,
            "border": null,
            "bottom": null,
            "display": null,
            "flex": null,
            "flex_flow": null,
            "grid_area": null,
            "grid_auto_columns": null,
            "grid_auto_flow": null,
            "grid_auto_rows": null,
            "grid_column": null,
            "grid_gap": null,
            "grid_row": null,
            "grid_template_areas": null,
            "grid_template_columns": null,
            "grid_template_rows": null,
            "height": null,
            "justify_content": null,
            "justify_items": null,
            "left": null,
            "margin": null,
            "max_height": null,
            "max_width": null,
            "min_height": null,
            "min_width": null,
            "object_fit": null,
            "object_position": null,
            "order": null,
            "overflow": null,
            "overflow_x": null,
            "overflow_y": null,
            "padding": null,
            "right": null,
            "top": null,
            "visibility": null,
            "width": null
          }
        },
        "3aa4ad9684e7482aa575e7d0a8c4dd4a": {
          "model_module": "@jupyter-widgets/controls",
          "model_name": "ProgressStyleModel",
          "model_module_version": "1.5.0",
          "state": {
            "_model_module": "@jupyter-widgets/controls",
            "_model_module_version": "1.5.0",
            "_model_name": "ProgressStyleModel",
            "_view_count": null,
            "_view_module": "@jupyter-widgets/base",
            "_view_module_version": "1.2.0",
            "_view_name": "StyleView",
            "bar_color": null,
            "description_width": ""
          }
        },
        "9949439b14804471ac172c735f4c2026": {
          "model_module": "@jupyter-widgets/base",
          "model_name": "LayoutModel",
          "model_module_version": "1.2.0",
          "state": {
            "_model_module": "@jupyter-widgets/base",
            "_model_module_version": "1.2.0",
            "_model_name": "LayoutModel",
            "_view_count": null,
            "_view_module": "@jupyter-widgets/base",
            "_view_module_version": "1.2.0",
            "_view_name": "LayoutView",
            "align_content": null,
            "align_items": null,
            "align_self": null,
            "border": null,
            "bottom": null,
            "display": null,
            "flex": null,
            "flex_flow": null,
            "grid_area": null,
            "grid_auto_columns": null,
            "grid_auto_flow": null,
            "grid_auto_rows": null,
            "grid_column": null,
            "grid_gap": null,
            "grid_row": null,
            "grid_template_areas": null,
            "grid_template_columns": null,
            "grid_template_rows": null,
            "height": null,
            "justify_content": null,
            "justify_items": null,
            "left": null,
            "margin": null,
            "max_height": null,
            "max_width": null,
            "min_height": null,
            "min_width": null,
            "object_fit": null,
            "object_position": null,
            "order": null,
            "overflow": null,
            "overflow_x": null,
            "overflow_y": null,
            "padding": null,
            "right": null,
            "top": null,
            "visibility": null,
            "width": null
          }
        },
        "35009bd893084b6eaab6bfcd28ee1e66": {
          "model_module": "@jupyter-widgets/controls",
          "model_name": "DescriptionStyleModel",
          "model_module_version": "1.5.0",
          "state": {
            "_model_module": "@jupyter-widgets/controls",
            "_model_module_version": "1.5.0",
            "_model_name": "DescriptionStyleModel",
            "_view_count": null,
            "_view_module": "@jupyter-widgets/base",
            "_view_module_version": "1.2.0",
            "_view_name": "StyleView",
            "description_width": ""
          }
        },
        "daeec5ce7f0043cfa86391c2b0ff1835": {
          "model_module": "@jupyter-widgets/controls",
          "model_name": "HBoxModel",
          "model_module_version": "1.5.0",
          "state": {
            "_dom_classes": [],
            "_model_module": "@jupyter-widgets/controls",
            "_model_module_version": "1.5.0",
            "_model_name": "HBoxModel",
            "_view_count": null,
            "_view_module": "@jupyter-widgets/controls",
            "_view_module_version": "1.5.0",
            "_view_name": "HBoxView",
            "box_style": "",
            "children": [
              "IPY_MODEL_8f92d1ee9ed14048bdb8e9c2868d165f",
              "IPY_MODEL_dcfce7f3203f4e3a81c01fc5c41cf887",
              "IPY_MODEL_f229fb05dc664fdcbc8853d8c35d71c5"
            ],
            "layout": "IPY_MODEL_690a0942a25c478a9b420ec9a4ca2782"
          }
        },
        "8f92d1ee9ed14048bdb8e9c2868d165f": {
          "model_module": "@jupyter-widgets/controls",
          "model_name": "HTMLModel",
          "model_module_version": "1.5.0",
          "state": {
            "_dom_classes": [],
            "_model_module": "@jupyter-widgets/controls",
            "_model_module_version": "1.5.0",
            "_model_name": "HTMLModel",
            "_view_count": null,
            "_view_module": "@jupyter-widgets/controls",
            "_view_module_version": "1.5.0",
            "_view_name": "HTMLView",
            "description": "",
            "description_tooltip": null,
            "layout": "IPY_MODEL_d32acdc2f03247199e015ebc6507c240",
            "placeholder": "​",
            "style": "IPY_MODEL_7bff9cbc493e41f48d336df4d14d329f",
            "value": "100%"
          }
        },
        "dcfce7f3203f4e3a81c01fc5c41cf887": {
          "model_module": "@jupyter-widgets/controls",
          "model_name": "FloatProgressModel",
          "model_module_version": "1.5.0",
          "state": {
            "_dom_classes": [],
            "_model_module": "@jupyter-widgets/controls",
            "_model_module_version": "1.5.0",
            "_model_name": "FloatProgressModel",
            "_view_count": null,
            "_view_module": "@jupyter-widgets/controls",
            "_view_module_version": "1.5.0",
            "_view_name": "ProgressView",
            "bar_style": "success",
            "description": "",
            "description_tooltip": null,
            "layout": "IPY_MODEL_7a0b462269854ef6ae626ba4e3a5219d",
            "max": 30,
            "min": 0,
            "orientation": "horizontal",
            "style": "IPY_MODEL_bfa8924f21154be1a3728340b17249f2",
            "value": 30
          }
        },
        "f229fb05dc664fdcbc8853d8c35d71c5": {
          "model_module": "@jupyter-widgets/controls",
          "model_name": "HTMLModel",
          "model_module_version": "1.5.0",
          "state": {
            "_dom_classes": [],
            "_model_module": "@jupyter-widgets/controls",
            "_model_module_version": "1.5.0",
            "_model_name": "HTMLModel",
            "_view_count": null,
            "_view_module": "@jupyter-widgets/controls",
            "_view_module_version": "1.5.0",
            "_view_name": "HTMLView",
            "description": "",
            "description_tooltip": null,
            "layout": "IPY_MODEL_76b35b400f7b4621923b61c07947d726",
            "placeholder": "​",
            "style": "IPY_MODEL_4f0f4f29c8d44f069e83a0255d650acf",
            "value": " 30/30 [00:07&lt;00:00,  6.70it/s]"
          }
        },
        "690a0942a25c478a9b420ec9a4ca2782": {
          "model_module": "@jupyter-widgets/base",
          "model_name": "LayoutModel",
          "model_module_version": "1.2.0",
          "state": {
            "_model_module": "@jupyter-widgets/base",
            "_model_module_version": "1.2.0",
            "_model_name": "LayoutModel",
            "_view_count": null,
            "_view_module": "@jupyter-widgets/base",
            "_view_module_version": "1.2.0",
            "_view_name": "LayoutView",
            "align_content": null,
            "align_items": null,
            "align_self": null,
            "border": null,
            "bottom": null,
            "display": null,
            "flex": null,
            "flex_flow": null,
            "grid_area": null,
            "grid_auto_columns": null,
            "grid_auto_flow": null,
            "grid_auto_rows": null,
            "grid_column": null,
            "grid_gap": null,
            "grid_row": null,
            "grid_template_areas": null,
            "grid_template_columns": null,
            "grid_template_rows": null,
            "height": null,
            "justify_content": null,
            "justify_items": null,
            "left": null,
            "margin": null,
            "max_height": null,
            "max_width": null,
            "min_height": null,
            "min_width": null,
            "object_fit": null,
            "object_position": null,
            "order": null,
            "overflow": null,
            "overflow_x": null,
            "overflow_y": null,
            "padding": null,
            "right": null,
            "top": null,
            "visibility": null,
            "width": null
          }
        },
        "d32acdc2f03247199e015ebc6507c240": {
          "model_module": "@jupyter-widgets/base",
          "model_name": "LayoutModel",
          "model_module_version": "1.2.0",
          "state": {
            "_model_module": "@jupyter-widgets/base",
            "_model_module_version": "1.2.0",
            "_model_name": "LayoutModel",
            "_view_count": null,
            "_view_module": "@jupyter-widgets/base",
            "_view_module_version": "1.2.0",
            "_view_name": "LayoutView",
            "align_content": null,
            "align_items": null,
            "align_self": null,
            "border": null,
            "bottom": null,
            "display": null,
            "flex": null,
            "flex_flow": null,
            "grid_area": null,
            "grid_auto_columns": null,
            "grid_auto_flow": null,
            "grid_auto_rows": null,
            "grid_column": null,
            "grid_gap": null,
            "grid_row": null,
            "grid_template_areas": null,
            "grid_template_columns": null,
            "grid_template_rows": null,
            "height": null,
            "justify_content": null,
            "justify_items": null,
            "left": null,
            "margin": null,
            "max_height": null,
            "max_width": null,
            "min_height": null,
            "min_width": null,
            "object_fit": null,
            "object_position": null,
            "order": null,
            "overflow": null,
            "overflow_x": null,
            "overflow_y": null,
            "padding": null,
            "right": null,
            "top": null,
            "visibility": null,
            "width": null
          }
        },
        "7bff9cbc493e41f48d336df4d14d329f": {
          "model_module": "@jupyter-widgets/controls",
          "model_name": "DescriptionStyleModel",
          "model_module_version": "1.5.0",
          "state": {
            "_model_module": "@jupyter-widgets/controls",
            "_model_module_version": "1.5.0",
            "_model_name": "DescriptionStyleModel",
            "_view_count": null,
            "_view_module": "@jupyter-widgets/base",
            "_view_module_version": "1.2.0",
            "_view_name": "StyleView",
            "description_width": ""
          }
        },
        "7a0b462269854ef6ae626ba4e3a5219d": {
          "model_module": "@jupyter-widgets/base",
          "model_name": "LayoutModel",
          "model_module_version": "1.2.0",
          "state": {
            "_model_module": "@jupyter-widgets/base",
            "_model_module_version": "1.2.0",
            "_model_name": "LayoutModel",
            "_view_count": null,
            "_view_module": "@jupyter-widgets/base",
            "_view_module_version": "1.2.0",
            "_view_name": "LayoutView",
            "align_content": null,
            "align_items": null,
            "align_self": null,
            "border": null,
            "bottom": null,
            "display": null,
            "flex": null,
            "flex_flow": null,
            "grid_area": null,
            "grid_auto_columns": null,
            "grid_auto_flow": null,
            "grid_auto_rows": null,
            "grid_column": null,
            "grid_gap": null,
            "grid_row": null,
            "grid_template_areas": null,
            "grid_template_columns": null,
            "grid_template_rows": null,
            "height": null,
            "justify_content": null,
            "justify_items": null,
            "left": null,
            "margin": null,
            "max_height": null,
            "max_width": null,
            "min_height": null,
            "min_width": null,
            "object_fit": null,
            "object_position": null,
            "order": null,
            "overflow": null,
            "overflow_x": null,
            "overflow_y": null,
            "padding": null,
            "right": null,
            "top": null,
            "visibility": null,
            "width": null
          }
        },
        "bfa8924f21154be1a3728340b17249f2": {
          "model_module": "@jupyter-widgets/controls",
          "model_name": "ProgressStyleModel",
          "model_module_version": "1.5.0",
          "state": {
            "_model_module": "@jupyter-widgets/controls",
            "_model_module_version": "1.5.0",
            "_model_name": "ProgressStyleModel",
            "_view_count": null,
            "_view_module": "@jupyter-widgets/base",
            "_view_module_version": "1.2.0",
            "_view_name": "StyleView",
            "bar_color": null,
            "description_width": ""
          }
        },
        "76b35b400f7b4621923b61c07947d726": {
          "model_module": "@jupyter-widgets/base",
          "model_name": "LayoutModel",
          "model_module_version": "1.2.0",
          "state": {
            "_model_module": "@jupyter-widgets/base",
            "_model_module_version": "1.2.0",
            "_model_name": "LayoutModel",
            "_view_count": null,
            "_view_module": "@jupyter-widgets/base",
            "_view_module_version": "1.2.0",
            "_view_name": "LayoutView",
            "align_content": null,
            "align_items": null,
            "align_self": null,
            "border": null,
            "bottom": null,
            "display": null,
            "flex": null,
            "flex_flow": null,
            "grid_area": null,
            "grid_auto_columns": null,
            "grid_auto_flow": null,
            "grid_auto_rows": null,
            "grid_column": null,
            "grid_gap": null,
            "grid_row": null,
            "grid_template_areas": null,
            "grid_template_columns": null,
            "grid_template_rows": null,
            "height": null,
            "justify_content": null,
            "justify_items": null,
            "left": null,
            "margin": null,
            "max_height": null,
            "max_width": null,
            "min_height": null,
            "min_width": null,
            "object_fit": null,
            "object_position": null,
            "order": null,
            "overflow": null,
            "overflow_x": null,
            "overflow_y": null,
            "padding": null,
            "right": null,
            "top": null,
            "visibility": null,
            "width": null
          }
        },
        "4f0f4f29c8d44f069e83a0255d650acf": {
          "model_module": "@jupyter-widgets/controls",
          "model_name": "DescriptionStyleModel",
          "model_module_version": "1.5.0",
          "state": {
            "_model_module": "@jupyter-widgets/controls",
            "_model_module_version": "1.5.0",
            "_model_name": "DescriptionStyleModel",
            "_view_count": null,
            "_view_module": "@jupyter-widgets/base",
            "_view_module_version": "1.2.0",
            "_view_name": "StyleView",
            "description_width": ""
          }
        },
        "a8129267427a4f73b34d53ace17b9b84": {
          "model_module": "@jupyter-widgets/controls",
          "model_name": "HBoxModel",
          "model_module_version": "1.5.0",
          "state": {
            "_dom_classes": [],
            "_model_module": "@jupyter-widgets/controls",
            "_model_module_version": "1.5.0",
            "_model_name": "HBoxModel",
            "_view_count": null,
            "_view_module": "@jupyter-widgets/controls",
            "_view_module_version": "1.5.0",
            "_view_name": "HBoxView",
            "box_style": "",
            "children": [
              "IPY_MODEL_efba916bb0c64c75b68cf99499f99bbe",
              "IPY_MODEL_c2dd9f28377d41198d1e5e7b19aef14a",
              "IPY_MODEL_62b8b24333db40da903a2900ead41ca7"
            ],
            "layout": "IPY_MODEL_08b0f8eb31d64b1a9239abc810424fc5"
          }
        },
        "efba916bb0c64c75b68cf99499f99bbe": {
          "model_module": "@jupyter-widgets/controls",
          "model_name": "HTMLModel",
          "model_module_version": "1.5.0",
          "state": {
            "_dom_classes": [],
            "_model_module": "@jupyter-widgets/controls",
            "_model_module_version": "1.5.0",
            "_model_name": "HTMLModel",
            "_view_count": null,
            "_view_module": "@jupyter-widgets/controls",
            "_view_module_version": "1.5.0",
            "_view_name": "HTMLView",
            "description": "",
            "description_tooltip": null,
            "layout": "IPY_MODEL_30f8214447b84803b225071decee5eaf",
            "placeholder": "​",
            "style": "IPY_MODEL_d1ef510b3379475ebfec733ccdcfb36b",
            "value": "  5%"
          }
        },
        "c2dd9f28377d41198d1e5e7b19aef14a": {
          "model_module": "@jupyter-widgets/controls",
          "model_name": "FloatProgressModel",
          "model_module_version": "1.5.0",
          "state": {
            "_dom_classes": [],
            "_model_module": "@jupyter-widgets/controls",
            "_model_module_version": "1.5.0",
            "_model_name": "FloatProgressModel",
            "_view_count": null,
            "_view_module": "@jupyter-widgets/controls",
            "_view_module_version": "1.5.0",
            "_view_name": "ProgressView",
            "bar_style": "danger",
            "description": "",
            "description_tooltip": null,
            "layout": "IPY_MODEL_ef0caea3d17848beabd2a6aadce69fc5",
            "max": 1000,
            "min": 0,
            "orientation": "horizontal",
            "style": "IPY_MODEL_a942a0e77fae4147a62ac9c76ce26e21",
            "value": 54
          }
        },
        "62b8b24333db40da903a2900ead41ca7": {
          "model_module": "@jupyter-widgets/controls",
          "model_name": "HTMLModel",
          "model_module_version": "1.5.0",
          "state": {
            "_dom_classes": [],
            "_model_module": "@jupyter-widgets/controls",
            "_model_module_version": "1.5.0",
            "_model_name": "HTMLModel",
            "_view_count": null,
            "_view_module": "@jupyter-widgets/controls",
            "_view_module_version": "1.5.0",
            "_view_name": "HTMLView",
            "description": "",
            "description_tooltip": null,
            "layout": "IPY_MODEL_fa9866f58e94440480398151c4f896f2",
            "placeholder": "​",
            "style": "IPY_MODEL_8f39198940ec4bf3b14307e0f753a320",
            "value": " 54/1000 [00:09&lt;01:27, 10.87it/s]"
          }
        },
        "08b0f8eb31d64b1a9239abc810424fc5": {
          "model_module": "@jupyter-widgets/base",
          "model_name": "LayoutModel",
          "model_module_version": "1.2.0",
          "state": {
            "_model_module": "@jupyter-widgets/base",
            "_model_module_version": "1.2.0",
            "_model_name": "LayoutModel",
            "_view_count": null,
            "_view_module": "@jupyter-widgets/base",
            "_view_module_version": "1.2.0",
            "_view_name": "LayoutView",
            "align_content": null,
            "align_items": null,
            "align_self": null,
            "border": null,
            "bottom": null,
            "display": null,
            "flex": null,
            "flex_flow": null,
            "grid_area": null,
            "grid_auto_columns": null,
            "grid_auto_flow": null,
            "grid_auto_rows": null,
            "grid_column": null,
            "grid_gap": null,
            "grid_row": null,
            "grid_template_areas": null,
            "grid_template_columns": null,
            "grid_template_rows": null,
            "height": null,
            "justify_content": null,
            "justify_items": null,
            "left": null,
            "margin": null,
            "max_height": null,
            "max_width": null,
            "min_height": null,
            "min_width": null,
            "object_fit": null,
            "object_position": null,
            "order": null,
            "overflow": null,
            "overflow_x": null,
            "overflow_y": null,
            "padding": null,
            "right": null,
            "top": null,
            "visibility": null,
            "width": null
          }
        },
        "30f8214447b84803b225071decee5eaf": {
          "model_module": "@jupyter-widgets/base",
          "model_name": "LayoutModel",
          "model_module_version": "1.2.0",
          "state": {
            "_model_module": "@jupyter-widgets/base",
            "_model_module_version": "1.2.0",
            "_model_name": "LayoutModel",
            "_view_count": null,
            "_view_module": "@jupyter-widgets/base",
            "_view_module_version": "1.2.0",
            "_view_name": "LayoutView",
            "align_content": null,
            "align_items": null,
            "align_self": null,
            "border": null,
            "bottom": null,
            "display": null,
            "flex": null,
            "flex_flow": null,
            "grid_area": null,
            "grid_auto_columns": null,
            "grid_auto_flow": null,
            "grid_auto_rows": null,
            "grid_column": null,
            "grid_gap": null,
            "grid_row": null,
            "grid_template_areas": null,
            "grid_template_columns": null,
            "grid_template_rows": null,
            "height": null,
            "justify_content": null,
            "justify_items": null,
            "left": null,
            "margin": null,
            "max_height": null,
            "max_width": null,
            "min_height": null,
            "min_width": null,
            "object_fit": null,
            "object_position": null,
            "order": null,
            "overflow": null,
            "overflow_x": null,
            "overflow_y": null,
            "padding": null,
            "right": null,
            "top": null,
            "visibility": null,
            "width": null
          }
        },
        "d1ef510b3379475ebfec733ccdcfb36b": {
          "model_module": "@jupyter-widgets/controls",
          "model_name": "DescriptionStyleModel",
          "model_module_version": "1.5.0",
          "state": {
            "_model_module": "@jupyter-widgets/controls",
            "_model_module_version": "1.5.0",
            "_model_name": "DescriptionStyleModel",
            "_view_count": null,
            "_view_module": "@jupyter-widgets/base",
            "_view_module_version": "1.2.0",
            "_view_name": "StyleView",
            "description_width": ""
          }
        },
        "ef0caea3d17848beabd2a6aadce69fc5": {
          "model_module": "@jupyter-widgets/base",
          "model_name": "LayoutModel",
          "model_module_version": "1.2.0",
          "state": {
            "_model_module": "@jupyter-widgets/base",
            "_model_module_version": "1.2.0",
            "_model_name": "LayoutModel",
            "_view_count": null,
            "_view_module": "@jupyter-widgets/base",
            "_view_module_version": "1.2.0",
            "_view_name": "LayoutView",
            "align_content": null,
            "align_items": null,
            "align_self": null,
            "border": null,
            "bottom": null,
            "display": null,
            "flex": null,
            "flex_flow": null,
            "grid_area": null,
            "grid_auto_columns": null,
            "grid_auto_flow": null,
            "grid_auto_rows": null,
            "grid_column": null,
            "grid_gap": null,
            "grid_row": null,
            "grid_template_areas": null,
            "grid_template_columns": null,
            "grid_template_rows": null,
            "height": null,
            "justify_content": null,
            "justify_items": null,
            "left": null,
            "margin": null,
            "max_height": null,
            "max_width": null,
            "min_height": null,
            "min_width": null,
            "object_fit": null,
            "object_position": null,
            "order": null,
            "overflow": null,
            "overflow_x": null,
            "overflow_y": null,
            "padding": null,
            "right": null,
            "top": null,
            "visibility": null,
            "width": null
          }
        },
        "a942a0e77fae4147a62ac9c76ce26e21": {
          "model_module": "@jupyter-widgets/controls",
          "model_name": "ProgressStyleModel",
          "model_module_version": "1.5.0",
          "state": {
            "_model_module": "@jupyter-widgets/controls",
            "_model_module_version": "1.5.0",
            "_model_name": "ProgressStyleModel",
            "_view_count": null,
            "_view_module": "@jupyter-widgets/base",
            "_view_module_version": "1.2.0",
            "_view_name": "StyleView",
            "bar_color": null,
            "description_width": ""
          }
        },
        "fa9866f58e94440480398151c4f896f2": {
          "model_module": "@jupyter-widgets/base",
          "model_name": "LayoutModel",
          "model_module_version": "1.2.0",
          "state": {
            "_model_module": "@jupyter-widgets/base",
            "_model_module_version": "1.2.0",
            "_model_name": "LayoutModel",
            "_view_count": null,
            "_view_module": "@jupyter-widgets/base",
            "_view_module_version": "1.2.0",
            "_view_name": "LayoutView",
            "align_content": null,
            "align_items": null,
            "align_self": null,
            "border": null,
            "bottom": null,
            "display": null,
            "flex": null,
            "flex_flow": null,
            "grid_area": null,
            "grid_auto_columns": null,
            "grid_auto_flow": null,
            "grid_auto_rows": null,
            "grid_column": null,
            "grid_gap": null,
            "grid_row": null,
            "grid_template_areas": null,
            "grid_template_columns": null,
            "grid_template_rows": null,
            "height": null,
            "justify_content": null,
            "justify_items": null,
            "left": null,
            "margin": null,
            "max_height": null,
            "max_width": null,
            "min_height": null,
            "min_width": null,
            "object_fit": null,
            "object_position": null,
            "order": null,
            "overflow": null,
            "overflow_x": null,
            "overflow_y": null,
            "padding": null,
            "right": null,
            "top": null,
            "visibility": null,
            "width": null
          }
        },
        "8f39198940ec4bf3b14307e0f753a320": {
          "model_module": "@jupyter-widgets/controls",
          "model_name": "DescriptionStyleModel",
          "model_module_version": "1.5.0",
          "state": {
            "_model_module": "@jupyter-widgets/controls",
            "_model_module_version": "1.5.0",
            "_model_name": "DescriptionStyleModel",
            "_view_count": null,
            "_view_module": "@jupyter-widgets/base",
            "_view_module_version": "1.2.0",
            "_view_name": "StyleView",
            "description_width": ""
          }
        },
        "f34acfd1de404aa3abb02b93a3eda11f": {
          "model_module": "@jupyter-widgets/controls",
          "model_name": "HBoxModel",
          "model_module_version": "1.5.0",
          "state": {
            "_dom_classes": [],
            "_model_module": "@jupyter-widgets/controls",
            "_model_module_version": "1.5.0",
            "_model_name": "HBoxModel",
            "_view_count": null,
            "_view_module": "@jupyter-widgets/controls",
            "_view_module_version": "1.5.0",
            "_view_name": "HBoxView",
            "box_style": "",
            "children": [
              "IPY_MODEL_d9970f03603843ca8bced81ef004e444",
              "IPY_MODEL_906535b451bd461baa9067420eb490e4",
              "IPY_MODEL_99b0094f54dc4ab9ac361df0a6f13015"
            ],
            "layout": "IPY_MODEL_26da0374def145b89938fc4c25dd08a4"
          }
        },
        "d9970f03603843ca8bced81ef004e444": {
          "model_module": "@jupyter-widgets/controls",
          "model_name": "HTMLModel",
          "model_module_version": "1.5.0",
          "state": {
            "_dom_classes": [],
            "_model_module": "@jupyter-widgets/controls",
            "_model_module_version": "1.5.0",
            "_model_name": "HTMLModel",
            "_view_count": null,
            "_view_module": "@jupyter-widgets/controls",
            "_view_module_version": "1.5.0",
            "_view_name": "HTMLView",
            "description": "",
            "description_tooltip": null,
            "layout": "IPY_MODEL_48f23fd440e04dd78e24f7d5ff2ed871",
            "placeholder": "​",
            "style": "IPY_MODEL_68f3275757f943eca30678bcb90af5e4",
            "value": "  7%"
          }
        },
        "906535b451bd461baa9067420eb490e4": {
          "model_module": "@jupyter-widgets/controls",
          "model_name": "FloatProgressModel",
          "model_module_version": "1.5.0",
          "state": {
            "_dom_classes": [],
            "_model_module": "@jupyter-widgets/controls",
            "_model_module_version": "1.5.0",
            "_model_name": "FloatProgressModel",
            "_view_count": null,
            "_view_module": "@jupyter-widgets/controls",
            "_view_module_version": "1.5.0",
            "_view_name": "ProgressView",
            "bar_style": "danger",
            "description": "",
            "description_tooltip": null,
            "layout": "IPY_MODEL_11efd9187ece481fbdad4f2d8e35f5f0",
            "max": 1000,
            "min": 0,
            "orientation": "horizontal",
            "style": "IPY_MODEL_49a8946d6c904400b295fedae410b3a7",
            "value": 68
          }
        },
        "99b0094f54dc4ab9ac361df0a6f13015": {
          "model_module": "@jupyter-widgets/controls",
          "model_name": "HTMLModel",
          "model_module_version": "1.5.0",
          "state": {
            "_dom_classes": [],
            "_model_module": "@jupyter-widgets/controls",
            "_model_module_version": "1.5.0",
            "_model_name": "HTMLModel",
            "_view_count": null,
            "_view_module": "@jupyter-widgets/controls",
            "_view_module_version": "1.5.0",
            "_view_name": "HTMLView",
            "description": "",
            "description_tooltip": null,
            "layout": "IPY_MODEL_061110c17032467ebaac57deef09981d",
            "placeholder": "​",
            "style": "IPY_MODEL_e5f959ff09f848ad973649e44d3903f9",
            "value": " 68/1000 [00:11&lt;01:43,  9.03it/s]"
          }
        },
        "26da0374def145b89938fc4c25dd08a4": {
          "model_module": "@jupyter-widgets/base",
          "model_name": "LayoutModel",
          "model_module_version": "1.2.0",
          "state": {
            "_model_module": "@jupyter-widgets/base",
            "_model_module_version": "1.2.0",
            "_model_name": "LayoutModel",
            "_view_count": null,
            "_view_module": "@jupyter-widgets/base",
            "_view_module_version": "1.2.0",
            "_view_name": "LayoutView",
            "align_content": null,
            "align_items": null,
            "align_self": null,
            "border": null,
            "bottom": null,
            "display": null,
            "flex": null,
            "flex_flow": null,
            "grid_area": null,
            "grid_auto_columns": null,
            "grid_auto_flow": null,
            "grid_auto_rows": null,
            "grid_column": null,
            "grid_gap": null,
            "grid_row": null,
            "grid_template_areas": null,
            "grid_template_columns": null,
            "grid_template_rows": null,
            "height": null,
            "justify_content": null,
            "justify_items": null,
            "left": null,
            "margin": null,
            "max_height": null,
            "max_width": null,
            "min_height": null,
            "min_width": null,
            "object_fit": null,
            "object_position": null,
            "order": null,
            "overflow": null,
            "overflow_x": null,
            "overflow_y": null,
            "padding": null,
            "right": null,
            "top": null,
            "visibility": null,
            "width": null
          }
        },
        "48f23fd440e04dd78e24f7d5ff2ed871": {
          "model_module": "@jupyter-widgets/base",
          "model_name": "LayoutModel",
          "model_module_version": "1.2.0",
          "state": {
            "_model_module": "@jupyter-widgets/base",
            "_model_module_version": "1.2.0",
            "_model_name": "LayoutModel",
            "_view_count": null,
            "_view_module": "@jupyter-widgets/base",
            "_view_module_version": "1.2.0",
            "_view_name": "LayoutView",
            "align_content": null,
            "align_items": null,
            "align_self": null,
            "border": null,
            "bottom": null,
            "display": null,
            "flex": null,
            "flex_flow": null,
            "grid_area": null,
            "grid_auto_columns": null,
            "grid_auto_flow": null,
            "grid_auto_rows": null,
            "grid_column": null,
            "grid_gap": null,
            "grid_row": null,
            "grid_template_areas": null,
            "grid_template_columns": null,
            "grid_template_rows": null,
            "height": null,
            "justify_content": null,
            "justify_items": null,
            "left": null,
            "margin": null,
            "max_height": null,
            "max_width": null,
            "min_height": null,
            "min_width": null,
            "object_fit": null,
            "object_position": null,
            "order": null,
            "overflow": null,
            "overflow_x": null,
            "overflow_y": null,
            "padding": null,
            "right": null,
            "top": null,
            "visibility": null,
            "width": null
          }
        },
        "68f3275757f943eca30678bcb90af5e4": {
          "model_module": "@jupyter-widgets/controls",
          "model_name": "DescriptionStyleModel",
          "model_module_version": "1.5.0",
          "state": {
            "_model_module": "@jupyter-widgets/controls",
            "_model_module_version": "1.5.0",
            "_model_name": "DescriptionStyleModel",
            "_view_count": null,
            "_view_module": "@jupyter-widgets/base",
            "_view_module_version": "1.2.0",
            "_view_name": "StyleView",
            "description_width": ""
          }
        },
        "11efd9187ece481fbdad4f2d8e35f5f0": {
          "model_module": "@jupyter-widgets/base",
          "model_name": "LayoutModel",
          "model_module_version": "1.2.0",
          "state": {
            "_model_module": "@jupyter-widgets/base",
            "_model_module_version": "1.2.0",
            "_model_name": "LayoutModel",
            "_view_count": null,
            "_view_module": "@jupyter-widgets/base",
            "_view_module_version": "1.2.0",
            "_view_name": "LayoutView",
            "align_content": null,
            "align_items": null,
            "align_self": null,
            "border": null,
            "bottom": null,
            "display": null,
            "flex": null,
            "flex_flow": null,
            "grid_area": null,
            "grid_auto_columns": null,
            "grid_auto_flow": null,
            "grid_auto_rows": null,
            "grid_column": null,
            "grid_gap": null,
            "grid_row": null,
            "grid_template_areas": null,
            "grid_template_columns": null,
            "grid_template_rows": null,
            "height": null,
            "justify_content": null,
            "justify_items": null,
            "left": null,
            "margin": null,
            "max_height": null,
            "max_width": null,
            "min_height": null,
            "min_width": null,
            "object_fit": null,
            "object_position": null,
            "order": null,
            "overflow": null,
            "overflow_x": null,
            "overflow_y": null,
            "padding": null,
            "right": null,
            "top": null,
            "visibility": null,
            "width": null
          }
        },
        "49a8946d6c904400b295fedae410b3a7": {
          "model_module": "@jupyter-widgets/controls",
          "model_name": "ProgressStyleModel",
          "model_module_version": "1.5.0",
          "state": {
            "_model_module": "@jupyter-widgets/controls",
            "_model_module_version": "1.5.0",
            "_model_name": "ProgressStyleModel",
            "_view_count": null,
            "_view_module": "@jupyter-widgets/base",
            "_view_module_version": "1.2.0",
            "_view_name": "StyleView",
            "bar_color": null,
            "description_width": ""
          }
        },
        "061110c17032467ebaac57deef09981d": {
          "model_module": "@jupyter-widgets/base",
          "model_name": "LayoutModel",
          "model_module_version": "1.2.0",
          "state": {
            "_model_module": "@jupyter-widgets/base",
            "_model_module_version": "1.2.0",
            "_model_name": "LayoutModel",
            "_view_count": null,
            "_view_module": "@jupyter-widgets/base",
            "_view_module_version": "1.2.0",
            "_view_name": "LayoutView",
            "align_content": null,
            "align_items": null,
            "align_self": null,
            "border": null,
            "bottom": null,
            "display": null,
            "flex": null,
            "flex_flow": null,
            "grid_area": null,
            "grid_auto_columns": null,
            "grid_auto_flow": null,
            "grid_auto_rows": null,
            "grid_column": null,
            "grid_gap": null,
            "grid_row": null,
            "grid_template_areas": null,
            "grid_template_columns": null,
            "grid_template_rows": null,
            "height": null,
            "justify_content": null,
            "justify_items": null,
            "left": null,
            "margin": null,
            "max_height": null,
            "max_width": null,
            "min_height": null,
            "min_width": null,
            "object_fit": null,
            "object_position": null,
            "order": null,
            "overflow": null,
            "overflow_x": null,
            "overflow_y": null,
            "padding": null,
            "right": null,
            "top": null,
            "visibility": null,
            "width": null
          }
        },
        "e5f959ff09f848ad973649e44d3903f9": {
          "model_module": "@jupyter-widgets/controls",
          "model_name": "DescriptionStyleModel",
          "model_module_version": "1.5.0",
          "state": {
            "_model_module": "@jupyter-widgets/controls",
            "_model_module_version": "1.5.0",
            "_model_name": "DescriptionStyleModel",
            "_view_count": null,
            "_view_module": "@jupyter-widgets/base",
            "_view_module_version": "1.2.0",
            "_view_name": "StyleView",
            "description_width": ""
          }
        }
      }
    },
    "accelerator": "GPU"
  },
  "cells": [
    {
      "cell_type": "markdown",
      "metadata": {
        "id": "view-in-github",
        "colab_type": "text"
      },
      "source": [
        "<a href=\"https://colab.research.google.com/github/ahmedhesham47/Bayesian-Network-for-Predicting-ICB-Response/blob/main/Bayes_Network.ipynb\" target=\"_parent\"><img src=\"https://colab.research.google.com/assets/colab-badge.svg\" alt=\"Open In Colab\"/></a>"
      ]
    },
    {
      "cell_type": "code",
      "source": [
        "!pip install pgmpy"
      ],
      "metadata": {
        "id": "q_LzYiv3NzjX"
      },
      "execution_count": null,
      "outputs": []
    },
    {
      "cell_type": "markdown",
      "source": [
        "# **Importing Packages**"
      ],
      "metadata": {
        "id": "aB1F8KokSF8P"
      }
    },
    {
      "cell_type": "code",
      "execution_count": 2,
      "metadata": {
        "id": "7latadm79rzS"
      },
      "outputs": [],
      "source": [
        "import pandas as pd\n",
        "from pgmpy.models import BayesianNetwork\n",
        "from pgmpy.estimators import HillClimbSearch, BicScore, PC, ExhaustiveSearch, BDsScore, K2Score, BayesianEstimator, MaximumLikelihoodEstimator, MmhcEstimator, BDeuScore\n",
        "from pgmpy.inference import VariableElimination, BeliefPropagation, CausalInference, Mplp\n",
        "import random\n",
        "import matplotlib.pyplot as plt\n",
        "import networkx as nx\n",
        "from pgmpy.utils import get_example_model\n",
        "from pgmpy.sampling import BayesianModelSampling\n",
        "import numpy as np\n",
        "from pgmpy.metrics import correlation_score, log_likelihood_score, structure_score\n",
        "from networkx.algorithms.approximation import clique\n",
        "from networkx.algorithms.clique import enumerate_all_cliques\n",
        "from networkx import find_cliques\n",
        "from sklearn.model_selection import train_test_split, KFold"
      ]
    },
    {
      "cell_type": "markdown",
      "source": [
        "# **Loading files**"
      ],
      "metadata": {
        "id": "hDLMix0ESLD3"
      }
    },
    {
      "cell_type": "code",
      "source": [
        "mrna_cont = pd.read_csv('mrna_6_FS_methods_cont.tsv', sep='\\t')\n",
        "best_e_genes = pd.read_csv('Best Expression Genes_6 combo.tsv', sep='\\t')\n",
        "labels_df = pd.read_csv('labels_df.tsv',sep='\\t')\n",
        "eigen_genes = pd.read_csv('hartmink_cat_eigengenes.tsv', sep='\\t')\n",
        "\n",
        "# clinical = pd.read_csv('processed_clinical.tsv', sep='\\t')\n",
        "# cibersort = pd.read_csv('CIBERSORTx.csv', sep=',')\n",
        "# cibersort = cibersort.iloc[:, :-4]\n",
        "# cibersort = cibersort.rename(columns={'Mixture': 'Sample Identifier'})"
      ],
      "metadata": {
        "id": "8v1bDq6JSOyh"
      },
      "execution_count": 4,
      "outputs": []
    },
    {
      "cell_type": "code",
      "source": [
        "def split(df, test_size=0.2):\n",
        "  train_df, test_df = train_test_split(df, test_size=test_size, random_state=42)\n",
        "  return train_df, test_df"
      ],
      "metadata": {
        "id": "8NxdC17mLj-1"
      },
      "execution_count": 5,
      "outputs": []
    },
    {
      "cell_type": "markdown",
      "source": [
        "# **Discretizing the dataframe**"
      ],
      "metadata": {
        "id": "TddKAWHSSoBP"
      }
    },
    {
      "cell_type": "markdown",
      "source": [
        "## **General Std. Categorization Function**"
      ],
      "metadata": {
        "id": "7uRd5kfcUnXY"
      }
    },
    {
      "cell_type": "code",
      "source": [
        "def categorize_columns(df, columns, units_std=1):\n",
        "    for col in columns:\n",
        "        if col in df.columns:\n",
        "            mean = df[col].mean()\n",
        "            std = df[col].std()\n",
        "\n",
        "            # Apply transformation\n",
        "            df[col] = df[col].apply(lambda x: 1 if x > mean + (units_std*std) else (-1 if x < mean - (units_std*std) else 0))\n",
        "        else:\n",
        "            print(f\"Column '{col}' not found in DataFrame.\")\n",
        "    return df"
      ],
      "metadata": {
        "id": "MYz68xpFUrIK"
      },
      "execution_count": 6,
      "outputs": []
    },
    {
      "cell_type": "code",
      "source": [
        "to_be_categorical = ['LDH (treatment Start)', 'Total Mutations',\t'Nonsynonymous Mutation Count',\t'Mutations Clonal',\t'Mutations Subclonal', 'Heterogeneity',\t'Total Neoantigen',\n",
        "'CNA Prop', 'Purity', 'Ploidy', 'UV-Induced Mutations', 'Alkylating Chemotherapy']\n",
        "\n",
        "# clinical = categorize_columns(clinical, to_be_categorical)\n",
        "\n",
        "# cibersort = categorize_columns(cibersort, cibersort.columns[1:], 0.25)\n",
        "\n",
        "# model_df = pd.merge(mrna_categorized, clinical, on='Sample Identifier')\n",
        "# model_df = pd.merge(model_df, cibersort, on='Sample Identifier')\n",
        "\n",
        "# column_to_move = model_df['ICB Response']\n",
        "# model_df = model_df.drop('ICB Response', axis=1)\n",
        "# model_df['ICB Response'] = column_to_move\n",
        "\n",
        "mrna_cont = categorize_columns(mrna_cont, mrna_cont.iloc[:, 1:].columns)\n",
        "mrna_categorized_labelled = pd.merge(mrna_cont, labels_df, on='Sample Identifier')\n",
        "mrna_categorized_labelled['ICB Response'] = mrna_categorized_labelled['ICB Response'].astype(int)\n",
        "mrna_categorized_labelled.to_csv('mrna_categorized_labelled_filtered_stringent.tsv', sep='\\t', index=False)"
      ],
      "metadata": {
        "id": "Fklo_qGJVLN4"
      },
      "execution_count": 106,
      "outputs": []
    },
    {
      "cell_type": "markdown",
      "source": [
        "# **Bayesian Network (genes arising from FS methods)**"
      ],
      "metadata": {
        "id": "ycA8vmVTSvbw"
      }
    },
    {
      "cell_type": "code",
      "source": [
        "train_df = split(mrna_categorized_labelled)[0]\n",
        "test_df = split(mrna_categorized_labelled)[1]\n",
        "\n",
        "edges_to_exclude = []\n",
        "for col in mrna_categorized_labelled.iloc[:, 1:].columns:\n",
        "  edges_to_exclude.append(('ICB Response', col))\n",
        "\n",
        "bic_score = BicScore(mrna_categorized_labelled.iloc[:,1:])\n",
        "K2C_score = K2Score(mrna_categorized_labelled.iloc[:,1:])\n",
        "BDs_score = BDsScore(mrna_categorized_labelled.iloc[:,1:])\n",
        "BDeu_score = BDeuScore(mrna_categorized_labelled.iloc[:,1:])\n",
        "\n",
        "hc = HillClimbSearch(mrna_categorized_labelled.iloc[:,1:])\n",
        "# mhmc = MmhcEstimator(mrna_categorized_labelled.iloc[:,1:])\n",
        "# pc = PC(mrna_categorized_labelled.iloc[:,1:])\n",
        "\n",
        "best_model = hc.estimate(scoring_method=bic_score, max_iter=1000, black_list=edges_to_exclude)\n",
        "best_model2 = hc.estimate(scoring_method=K2C_score, max_iter=20, black_list=edges_to_exclude)\n",
        "best_model3 = hc.estimate(scoring_method=BDs_score, max_iter=1000, black_list=edges_to_exclude)\n",
        "best_model4 = hc.estimate(scoring_method=BDeu_score, max_iter=1000, black_list=edges_to_exclude)\n",
        "\n",
        "# best_model = mhmc.estimate(scoring_method=bic_score, significance_level=0.05)\n",
        "# best_model2 = mhmc.estimate(scoring_method=K2C_score, significance_level=0.05)\n",
        "# best_model3 = mhmc.estimate(scoring_method=BDs_score, significance_level=0.05)\n",
        "# best_model4 = mhmc.estimate(scoring_method=BDeu_score, significance_level=0.05)\n",
        "\n",
        "# best_model = pc.estimate(ci_test = 'chi_square', significance_level=0.05)\n",
        "# best_model2 = pc.estimate(ci_test = 'g_sq', significance_level=0.05)\n",
        "# best_model3 = pc.estimate(ci_test = 'log_likelihood', significance_level=0.05)\n",
        "# best_model4 = pc.estimate(ci_test = 'cressie_read', significance_level=0.05)\n",
        "\n",
        "model = BayesianNetwork(best_model.edges())\n",
        "model2 = BayesianNetwork(best_model2.edges())\n",
        "model3 = BayesianNetwork(best_model3.edges())\n",
        "model4 = BayesianNetwork(best_model4.edges())\n",
        "\n",
        "model.fit(train_df.iloc[:, 1:], estimator=MaximumLikelihoodEstimator)\n",
        "model2.fit(train_df.iloc[:, 1:], estimator=MaximumLikelihoodEstimator)\n",
        "model3.fit(train_df.iloc[:, 1:], estimator=MaximumLikelihoodEstimator)\n",
        "model4.fit(train_df.iloc[:, 1:], estimator=MaximumLikelihoodEstimator)"
      ],
      "metadata": {
        "id": "WZR4MnORN20u"
      },
      "execution_count": null,
      "outputs": []
    },
    {
      "cell_type": "code",
      "source": [
        "models = {'BiC': model, 'K2S': model2, 'BDs': model3, 'BDe': model4}\n",
        "icb_response_edges = {name: [] for name in models}\n",
        "\n",
        "for name, model in models.items():\n",
        "    for edge in model.edges:\n",
        "        if edge[1] == 'ICB Response':\n",
        "            icb_response_edges[name].append(edge)\n",
        "\n",
        "print(icb_response_edges)"
      ],
      "metadata": {
        "colab": {
          "base_uri": "https://localhost:8080/"
        },
        "id": "C69hR1Jujb2S",
        "outputId": "e75d198e-89c4-4cda-e414-12b689195587"
      },
      "execution_count": 100,
      "outputs": [
        {
          "output_type": "stream",
          "name": "stdout",
          "text": [
            "{'BiC': [('ATPIF1', 'ICB Response'), ('TMEM8A', 'ICB Response'), ('XRCC3', 'ICB Response'), ('ZNF462', 'ICB Response')], 'K2S': [('ATPIF1', 'ICB Response')], 'BDs': [('ATPIF1', 'ICB Response'), ('KIAA0391', 'ICB Response')], 'BDe': [('ATPIF1', 'ICB Response'), ('TMEM8A', 'ICB Response'), ('XRCC3', 'ICB Response'), ('ZNF462', 'ICB Response')]}\n"
          ]
        }
      ]
    },
    {
      "cell_type": "markdown",
      "source": [
        "# **Bayesian Network (eigen-genes Hartemink Discretization)**"
      ],
      "metadata": {
        "id": "y3OrU-oR2DPn"
      }
    },
    {
      "cell_type": "code",
      "source": [
        "# cols_to_keep = ['Sample Identifier','MEgrey', 'MEtan', 'MEpurple', 'MEskyblue', 'MEpink', 'MEgreenyellow', 'MEgreen', 'MEsaddlebrown', 'MElightgreen', 'ICB Response']\n",
        "# eigen_genes = eigen_genes[cols_to_keep]\n",
        "\n",
        "train_df = split(eigen_genes)[0]\n",
        "test_df = split(eigen_genes)[1]\n",
        "\n",
        "edges_to_exclude = []\n",
        "for col in eigen_genes.iloc[:, 1:].columns:\n",
        "  edges_to_exclude.append(('ICB Response', col))\n",
        "\n",
        "bic_score = BicScore(eigen_genes.iloc[:,1:])\n",
        "K2C_score = K2Score(eigen_genes.iloc[:,1:])\n",
        "BDs_score = BDsScore(eigen_genes.iloc[:,1:])\n",
        "BDeu_score = BDeuScore(eigen_genes.iloc[:,1:])\n",
        "\n",
        "hc = HillClimbSearch(eigen_genes.iloc[:,1:])\n",
        "# mhmc = MmhcEstimator(eigen_genes.iloc[:,1:])\n",
        "# pc = PC(eigen_genes.iloc[:,1:])\n",
        "\n",
        "best_model = hc.estimate(scoring_method=bic_score, max_iter=1000, black_list=edges_to_exclude)\n",
        "best_model2 = hc.estimate(scoring_method=K2C_score, max_iter=30, black_list=edges_to_exclude)\n",
        "best_model3 = hc.estimate(scoring_method=BDs_score, max_iter=1000, black_list=edges_to_exclude)\n",
        "best_model4 = hc.estimate(scoring_method=BDeu_score, max_iter=1000, black_list=edges_to_exclude)\n",
        "\n",
        "# best_model = mhmc.estimate(scoring_method=bic_score, significance_level=0.05)\n",
        "# best_model2 = mhmc.estimate(scoring_method=K2C_score, significance_level=0.05)\n",
        "# best_model3 = mhmc.estimate(scoring_method=BDs_score, significance_level=0.05)\n",
        "# best_model4 = mhmc.estimate(scoring_method=BDeu_score, significance_level=0.05)\n",
        "\n",
        "# best_model = pc.estimate(ci_test = 'chi_square', significance_level=0.05)\n",
        "# best_model2 = pc.estimate(ci_test = 'g_sq', significance_level=0.05)\n",
        "# best_model3 = pc.estimate(ci_test = 'log_likelihood', significance_level=0.05)\n",
        "# best_model4 = pc.estimate(ci_test = 'neyman', significance_level=0.05)\n",
        "\n",
        "model = BayesianNetwork(best_model.edges())\n",
        "model2 = BayesianNetwork(best_model2.edges())\n",
        "model3 = BayesianNetwork(best_model3.edges())\n",
        "model4 = BayesianNetwork(best_model4.edges())\n",
        "\n",
        "model.fit(train_df.iloc[:, 1:], estimator=BayesianEstimator)\n",
        "model2.fit(train_df.iloc[:, 1:], estimator=BayesianEstimator)\n",
        "model3.fit(train_df.iloc[:, 1:], estimator=BayesianEstimator)\n",
        "model4.fit(train_df.iloc[:, 1:], estimator=BayesianEstimator)"
      ],
      "metadata": {
        "colab": {
          "base_uri": "https://localhost:8080/",
          "height": 145,
          "referenced_widgets": [
            "60156b649b0046fe9435668131a4cc55",
            "7cc105aae7814991aa4da888e4ee927a",
            "600a5d7d4bfe4810a741c6ecf10b3602",
            "c72166526a9242d2b33679068a0435a8",
            "ef64f052a8354316af3e044a9b2a649a",
            "c5109390e3864c4781cc6cfb50f9e379",
            "28e46b3a49a0460d9474543c935d5a31",
            "4f3c967873294b2199a52c6d481e0934",
            "3aa4ad9684e7482aa575e7d0a8c4dd4a",
            "9949439b14804471ac172c735f4c2026",
            "35009bd893084b6eaab6bfcd28ee1e66",
            "daeec5ce7f0043cfa86391c2b0ff1835",
            "8f92d1ee9ed14048bdb8e9c2868d165f",
            "dcfce7f3203f4e3a81c01fc5c41cf887",
            "f229fb05dc664fdcbc8853d8c35d71c5",
            "690a0942a25c478a9b420ec9a4ca2782",
            "d32acdc2f03247199e015ebc6507c240",
            "7bff9cbc493e41f48d336df4d14d329f",
            "7a0b462269854ef6ae626ba4e3a5219d",
            "bfa8924f21154be1a3728340b17249f2",
            "76b35b400f7b4621923b61c07947d726",
            "4f0f4f29c8d44f069e83a0255d650acf",
            "a8129267427a4f73b34d53ace17b9b84",
            "efba916bb0c64c75b68cf99499f99bbe",
            "c2dd9f28377d41198d1e5e7b19aef14a",
            "62b8b24333db40da903a2900ead41ca7",
            "08b0f8eb31d64b1a9239abc810424fc5",
            "30f8214447b84803b225071decee5eaf",
            "d1ef510b3379475ebfec733ccdcfb36b",
            "ef0caea3d17848beabd2a6aadce69fc5",
            "a942a0e77fae4147a62ac9c76ce26e21",
            "fa9866f58e94440480398151c4f896f2",
            "8f39198940ec4bf3b14307e0f753a320",
            "f34acfd1de404aa3abb02b93a3eda11f",
            "d9970f03603843ca8bced81ef004e444",
            "906535b451bd461baa9067420eb490e4",
            "99b0094f54dc4ab9ac361df0a6f13015",
            "26da0374def145b89938fc4c25dd08a4",
            "48f23fd440e04dd78e24f7d5ff2ed871",
            "68f3275757f943eca30678bcb90af5e4",
            "11efd9187ece481fbdad4f2d8e35f5f0",
            "49a8946d6c904400b295fedae410b3a7",
            "061110c17032467ebaac57deef09981d",
            "e5f959ff09f848ad973649e44d3903f9"
          ]
        },
        "id": "GwcQ6XX12Ifr",
        "outputId": "69dbfc0c-dbd1-4e74-da10-c866b4f34d56"
      },
      "execution_count": 134,
      "outputs": [
        {
          "output_type": "display_data",
          "data": {
            "text/plain": [
              "  0%|          | 0/1000 [00:00<?, ?it/s]"
            ],
            "application/vnd.jupyter.widget-view+json": {
              "version_major": 2,
              "version_minor": 0,
              "model_id": "60156b649b0046fe9435668131a4cc55"
            }
          },
          "metadata": {}
        },
        {
          "output_type": "display_data",
          "data": {
            "text/plain": [
              "  0%|          | 0/30 [00:00<?, ?it/s]"
            ],
            "application/vnd.jupyter.widget-view+json": {
              "version_major": 2,
              "version_minor": 0,
              "model_id": "daeec5ce7f0043cfa86391c2b0ff1835"
            }
          },
          "metadata": {}
        },
        {
          "output_type": "display_data",
          "data": {
            "text/plain": [
              "  0%|          | 0/1000 [00:00<?, ?it/s]"
            ],
            "application/vnd.jupyter.widget-view+json": {
              "version_major": 2,
              "version_minor": 0,
              "model_id": "a8129267427a4f73b34d53ace17b9b84"
            }
          },
          "metadata": {}
        },
        {
          "output_type": "display_data",
          "data": {
            "text/plain": [
              "  0%|          | 0/1000 [00:00<?, ?it/s]"
            ],
            "application/vnd.jupyter.widget-view+json": {
              "version_major": 2,
              "version_minor": 0,
              "model_id": "f34acfd1de404aa3abb02b93a3eda11f"
            }
          },
          "metadata": {}
        }
      ]
    },
    {
      "cell_type": "markdown",
      "source": [
        "# **Testing the model**"
      ],
      "metadata": {
        "id": "wi5bhcfInRVR"
      }
    },
    {
      "cell_type": "code",
      "source": [
        "inference = VariableElimination(model4)"
      ],
      "metadata": {
        "id": "bp4y79Z4IfTx"
      },
      "execution_count": 74,
      "outputs": []
    },
    {
      "cell_type": "code",
      "source": [
        "model_nodes = list(model.nodes)\n",
        "model2_nodes = list(model2.nodes)\n",
        "model3_nodes = list(model3.nodes)\n",
        "model4_nodes = list(model4.nodes)\n",
        "\n",
        "model_data = mrna_categorized_labelled.iloc[:,1:][model_nodes]\n",
        "model2_data = mrna_categorized_labelled.iloc[:,1:][model2_nodes]\n",
        "model3_data = mrna_categorized_labelled.iloc[:,1:][model3_nodes]\n",
        "model4_data = mrna_categorized_labelled.iloc[:,1:][model4_nodes]"
      ],
      "metadata": {
        "id": "lSODHAbvxXN8"
      },
      "execution_count": 75,
      "outputs": []
    },
    {
      "cell_type": "code",
      "source": [
        "correlation_score(model4, model4_data)\n",
        "log_likelihood_score(model4, model4_data)\n",
        "structure_score(model4, model4_data)"
      ],
      "metadata": {
        "id": "BzD11fj-nUX0"
      },
      "execution_count": null,
      "outputs": []
    },
    {
      "cell_type": "code",
      "source": [
        "samples = test_df[['Sample Identifier', 'ICB Response']]\n",
        "sample_ids = list(samples['Sample Identifier'])"
      ],
      "metadata": {
        "id": "odxv3JMh-RpX"
      },
      "execution_count": 63,
      "outputs": []
    },
    {
      "cell_type": "code",
      "source": [
        "list_of_dicts = test_df.iloc[:,1:-1].to_dict(orient='records')\n",
        "predictions = {}\n",
        "for sample_dict, s in zip(list_of_dicts, sample_ids):\n",
        "  filtered_dict = {key: sample_dict[key] for key in model4_nodes if key in sample_dict}\n",
        "  query_result = inference.map_query(variables=['ICB Response'], evidence=filtered_dict)\n",
        "  predictions[s] = query_result['ICB Response']"
      ],
      "metadata": {
        "id": "KQfp0f6Z8fR4"
      },
      "execution_count": null,
      "outputs": []
    },
    {
      "cell_type": "code",
      "source": [
        "predictions_df = pd.DataFrame.from_dict(predictions, orient='index', columns=['ICB Response'])\n",
        "predictions_df.reset_index(inplace=True)\n",
        "predictions_df.columns = ['Sample Identifier', 'ICB Response']\n",
        "\n",
        "samples.reset_index(inplace=True)\n",
        "samples.drop('index', axis=1, inplace=True)"
      ],
      "metadata": {
        "id": "3gTIbbs7_NJP"
      },
      "execution_count": null,
      "outputs": []
    },
    {
      "cell_type": "code",
      "source": [
        "((predictions_df == samples).sum() / len(samples)) * 100"
      ],
      "metadata": {
        "colab": {
          "base_uri": "https://localhost:8080/"
        },
        "id": "npj6EvYsAgzI",
        "outputId": "b32f7e0a-8bce-484a-aa26-abfc46d994ec"
      },
      "execution_count": 78,
      "outputs": [
        {
          "output_type": "execute_result",
          "data": {
            "text/plain": [
              "Sample Identifier    100.0\n",
              "ICB Response          62.5\n",
              "dtype: float64"
            ]
          },
          "metadata": {},
          "execution_count": 78
        }
      ]
    },
    {
      "cell_type": "markdown",
      "source": [
        "# **Network Visualization**"
      ],
      "metadata": {
        "id": "HNu3P6rISyp-"
      }
    },
    {
      "cell_type": "code",
      "source": [
        "# Create a NetworkX graph from the Bayesian network\n",
        "G = nx.DiGraph()\n",
        "G.add_edges_from(best_model4.edges())\n",
        "\n",
        "# Draw the graph\n",
        "plt.figure(figsize=(10, 6))  # Adjust the figure size as needed\n",
        "pos = nx.spring_layout(G)  # Layout for the nodes\n",
        "\n",
        "# Draw nodes and edges\n",
        "nx.draw(G, pos, with_labels=True, node_size=1500, node_color=\"lightblue\", font_size=5, font_weight=\"bold\", edge_color=\"gray\")\n",
        "\n",
        "# Display the graph\n",
        "plt.title(\"Bayesian Network Visualization\")\n",
        "plt.savefig('Bayes_network.png')\n",
        "plt.show()"
      ],
      "metadata": {
        "id": "z-XpnyrgbVjo"
      },
      "execution_count": null,
      "outputs": []
    },
    {
      "cell_type": "code",
      "source": [
        "edges_list = [edge for edge in best_model4.edges()]\n",
        "edges_df = pd.DataFrame(edges_list, columns=['Feature 1', 'Feature 2'])\n",
        "edges_df.to_csv('eigen_gene_interactions_bde_6_FS_methods.tsv', sep='\\t', index=False)"
      ],
      "metadata": {
        "id": "J9ktdG9ydLUn"
      },
      "execution_count": 104,
      "outputs": []
    },
    {
      "cell_type": "markdown",
      "source": [
        "# **Quantifying the strength of edges**"
      ],
      "metadata": {
        "id": "VlBT38rPS5Ke"
      }
    },
    {
      "cell_type": "code",
      "source": [
        "edge_data = []\n",
        "\n",
        "for parent, child in best_model.edges:\n",
        "    cpt = model.get_cpds(node=child)\n",
        "\n",
        "    influence_measure = cpt.values.ptp()  #ptp = peak-to-peak (max-min) of the probabilities\n",
        "\n",
        "    edge_data.append((parent, child, influence_measure))\n",
        "\n",
        "edges_df = pd.DataFrame(edge_data, columns=['Gene 1', 'Gene 2', 'Association Strength'])\n",
        "\n",
        "edges_df.to_csv('gene_interactions_strength_quantified.tsv', sep='\\t', index=False)"
      ],
      "metadata": {
        "id": "-CVSRmnDenVQ"
      },
      "execution_count": null,
      "outputs": []
    }
  ]
}